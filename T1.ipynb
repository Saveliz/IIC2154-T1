{
 "cells": [
  {
   "cell_type": "markdown",
   "metadata": {},
   "source": [
    "# 1. Import de librerías y funciones"
   ]
  },
  {
   "cell_type": "code",
   "execution_count": 4,
   "metadata": {},
   "outputs": [],
   "source": [
    "import pandas as pd\n",
    "import json"
   ]
  },
  {
   "cell_type": "code",
   "execution_count": 27,
   "metadata": {},
   "outputs": [],
   "source": [
    "path=\"../data.json\"\n",
    "with open(path) as f:\n",
    "    i = 0\n",
    "    df = pd.DataFrame()\n",
    "    for jsonObj in f:\n",
    "        tweetDict = json.loads(jsonObj)\n",
    "        new_dict = {\n",
    "            'date' : tweetDict['date'][0:10],\n",
    "            'user' : tweetDict['user']['username'],\n",
    "            'content' : tweetDict['content'],\n",
    "            'retweets' : tweetDict['retweetCount']\n",
    "        }\n",
    "        df = df.append(new_dict,ignore_index = True)\n",
    "        i += 1\n",
    "        if (i > 10000):\n",
    "            break\n",
    "        \n",
    "        "
   ]
  },
  {
   "cell_type": "code",
   "execution_count": 28,
   "metadata": {},
   "outputs": [
    {
     "data": {
      "text/html": [
       "<div>\n",
       "<style scoped>\n",
       "    .dataframe tbody tr th:only-of-type {\n",
       "        vertical-align: middle;\n",
       "    }\n",
       "\n",
       "    .dataframe tbody tr th {\n",
       "        vertical-align: top;\n",
       "    }\n",
       "\n",
       "    .dataframe thead th {\n",
       "        text-align: right;\n",
       "    }\n",
       "</style>\n",
       "<table border=\"1\" class=\"dataframe\">\n",
       "  <thead>\n",
       "    <tr style=\"text-align: right;\">\n",
       "      <th></th>\n",
       "      <th>content</th>\n",
       "      <th>date</th>\n",
       "      <th>retweets</th>\n",
       "      <th>user</th>\n",
       "    </tr>\n",
       "  </thead>\n",
       "  <tbody>\n",
       "    <tr>\n",
       "      <th>0</th>\n",
       "      <td>Support 👇\\n\\n#FarmersProtest</td>\n",
       "      <td>2021-03-30</td>\n",
       "      <td>0.0</td>\n",
       "      <td>ShashiRajbhar6</td>\n",
       "    </tr>\n",
       "    <tr>\n",
       "      <th>1</th>\n",
       "      <td>Supporting farmers means supporting our countr...</td>\n",
       "      <td>2021-03-30</td>\n",
       "      <td>0.0</td>\n",
       "      <td>kaursuk06272818</td>\n",
       "    </tr>\n",
       "    <tr>\n",
       "      <th>2</th>\n",
       "      <td>Support farmers if you are related to food #St...</td>\n",
       "      <td>2021-03-30</td>\n",
       "      <td>0.0</td>\n",
       "      <td>kaursuk06272818</td>\n",
       "    </tr>\n",
       "    <tr>\n",
       "      <th>3</th>\n",
       "      <td>#StopHateAgainstFarmers support #FarmersProtes...</td>\n",
       "      <td>2021-03-30</td>\n",
       "      <td>1.0</td>\n",
       "      <td>SukhdevSingh_</td>\n",
       "    </tr>\n",
       "    <tr>\n",
       "      <th>4</th>\n",
       "      <td>You hate farmers I hate you, \\nif you love the...</td>\n",
       "      <td>2021-03-30</td>\n",
       "      <td>0.0</td>\n",
       "      <td>Davidmu66668113</td>\n",
       "    </tr>\n",
       "  </tbody>\n",
       "</table>\n",
       "</div>"
      ],
      "text/plain": [
       "                                             content        date  retweets  \\\n",
       "0                       Support 👇\\n\\n#FarmersProtest  2021-03-30       0.0   \n",
       "1  Supporting farmers means supporting our countr...  2021-03-30       0.0   \n",
       "2  Support farmers if you are related to food #St...  2021-03-30       0.0   \n",
       "3  #StopHateAgainstFarmers support #FarmersProtes...  2021-03-30       1.0   \n",
       "4  You hate farmers I hate you, \\nif you love the...  2021-03-30       0.0   \n",
       "\n",
       "              user  \n",
       "0   ShashiRajbhar6  \n",
       "1  kaursuk06272818  \n",
       "2  kaursuk06272818  \n",
       "3    SukhdevSingh_  \n",
       "4  Davidmu66668113  "
      ]
     },
     "execution_count": 28,
     "metadata": {},
     "output_type": "execute_result"
    }
   ],
   "source": [
    "df.head(5)"
   ]
  },
  {
   "cell_type": "markdown",
   "metadata": {},
   "source": [
    "# 2. Definición de funciones"
   ]
  },
  {
   "cell_type": "markdown",
   "metadata": {},
   "source": [
    "## 2.1 retweeted_tweets()"
   ]
  },
  {
   "cell_type": "code",
   "execution_count": 32,
   "metadata": {},
   "outputs": [],
   "source": [
    "def retweeted_tweets(df):\n",
    "    df1 = df.sort_values('retweets',ascending = False).head(10)\n",
    "    return df1"
   ]
  },
  {
   "cell_type": "code",
   "execution_count": 33,
   "metadata": {},
   "outputs": [
    {
     "name": "stdout",
     "output_type": "stream",
     "text": [
      "                                                content        date  retweets  \\\n",
      "3082  #Breaking\\n\\n👉Zee Owner Subhash Chandra had an...  2021-03-28    1220.0   \n",
      "5270  WARNING: 🚨 Partial Nudity !\\n\\nBJP MLA from Ab...  2021-03-27     985.0   \n",
      "7335  May God give strength and will power to all th...  2021-03-27     865.0   \n",
      "6087  BJP MLA from Abohar Arun Narang faced heat of ...  2021-03-27     793.0   \n",
      "7916  Modi or his promises cannot be trusted. \\n\\n#N...  2021-03-27     727.0   \n",
      "7692  I can’t believe we have to say this: farmers a...  2021-03-27     727.0   \n",
      "7538  This man made our country feel shameful in the...  2021-03-27     627.0   \n",
      "6729  #NoVoteTo_LiarModi , Farm Supporters are raidi...  2021-03-27     595.0   \n",
      "8012  While looking at These innocent faces, whose c...  2021-03-27     562.0   \n",
      "3825  #Breaking\\n\\n👉UP BJP MLA Nand Kishore forced t...  2021-03-28     553.0   \n",
      "\n",
      "                user  \n",
      "3082  saahilmenghani  \n",
      "5270     RaviSinghKA  \n",
      "7335  jasdhaliwal349  \n",
      "6087       amaanbali  \n",
      "7916        NavJammu  \n",
      "7692        NavJammu  \n",
      "7538     Taman_Rupal  \n",
      "6729       Drkhinda2  \n",
      "8012    Its_mannkaur  \n",
      "3825  saahilmenghani  \n"
     ]
    }
   ],
   "source": [
    "print(retweeted_tweets(df))"
   ]
  },
  {
   "cell_type": "markdown",
   "metadata": {},
   "source": [
    "## 2.2 users_by_tweets"
   ]
  },
  {
   "cell_type": "code",
   "execution_count": 51,
   "metadata": {},
   "outputs": [],
   "source": [
    "def users_by_tweets(df):\n",
    "    n = 10\n",
    "    i = 1\n",
    "    lista =df['user'].value_counts().index.tolist()[:n]\n",
    "    for usr in lista:\n",
    "        print(f'{i}: {usr}')\n",
    "        i += 1\n",
    "    "
   ]
  },
  {
   "cell_type": "code",
   "execution_count": 52,
   "metadata": {},
   "outputs": [
    {
     "name": "stdout",
     "output_type": "stream",
     "text": [
      "1: tasveersandhu\n",
      "2: rebelpacifist\n",
      "3: jot__b\n",
      "4: rumsomal\n",
      "5: GurmVicky\n",
      "6: diamondhorse19\n",
      "7: shells_n_petals\n",
      "8: Fakeer16771146\n",
      "9: ASlacktavist\n",
      "10: Monika09213292\n"
     ]
    }
   ],
   "source": [
    "users_by_tweets(df)"
   ]
  },
  {
   "cell_type": "markdown",
   "metadata": {},
   "source": [
    "## 2.3 days_by_tweets"
   ]
  },
  {
   "cell_type": "code",
   "execution_count": 53,
   "metadata": {},
   "outputs": [],
   "source": [
    "def days_by_tweets(df):\n",
    "    n = 10\n",
    "    i = 1\n",
    "    lista =df['date'].value_counts().index.tolist()[:n]\n",
    "    for dte in lista:\n",
    "        print(f'{i}: {dte}')\n",
    "        i += 1"
   ]
  },
  {
   "cell_type": "code",
   "execution_count": 54,
   "metadata": {},
   "outputs": [
    {
     "name": "stdout",
     "output_type": "stream",
     "text": [
      "1: 2021-03-27\n",
      "2: 2021-03-28\n",
      "3: 2021-03-29\n",
      "4: 2021-03-26\n",
      "5: 2021-03-30\n"
     ]
    }
   ],
   "source": [
    "days_by_tweets(df)"
   ]
  },
  {
   "cell_type": "markdown",
   "metadata": {},
   "source": [
    "## 2.4 used_hashtags"
   ]
  },
  {
   "cell_type": "code",
   "execution_count": null,
   "metadata": {},
   "outputs": [],
   "source": [
    "def used_hashtags(df):\n",
    "    return \"No se hizo por cuestiones de tiempo.\""
   ]
  },
  {
   "cell_type": "markdown",
   "metadata": {},
   "source": [
    "## 2.5 main"
   ]
  },
  {
   "cell_type": "code",
   "execution_count": 34,
   "metadata": {},
   "outputs": [],
   "source": [
    "def main(df):\n",
    "    c = True\n",
    "    while c:\n",
    "        user_input = input()\n",
    "        if(user_input == \"exit\"):\n",
    "            c = False\n",
    "            print(\"Terminating program...\")\n",
    "        elif(user_input == \"retweets_10\"):\n",
    "            print(retweeted_tweets(df))\n",
    "        elif(user_input == \"users_10\"):\n",
    "            print(users_by_tweets(df))\n",
    "        elif(user_input == \"days_10\"):\n",
    "            print(days_by_tweets(df))\n",
    "        elif(user_input == \"hashtags_10\"):\n",
    "            print(used_hashtags(df))"
   ]
  },
  {
   "cell_type": "markdown",
   "metadata": {},
   "source": [
    "# Inicio del flujo con main"
   ]
  },
  {
   "cell_type": "code",
   "execution_count": 35,
   "metadata": {},
   "outputs": [
    {
     "name": "stdout",
     "output_type": "stream",
     "text": [
      "                                                content        date  retweets  \\\n",
      "3082  #Breaking\\n\\n👉Zee Owner Subhash Chandra had an...  2021-03-28    1220.0   \n",
      "5270  WARNING: 🚨 Partial Nudity !\\n\\nBJP MLA from Ab...  2021-03-27     985.0   \n",
      "7335  May God give strength and will power to all th...  2021-03-27     865.0   \n",
      "6087  BJP MLA from Abohar Arun Narang faced heat of ...  2021-03-27     793.0   \n",
      "7916  Modi or his promises cannot be trusted. \\n\\n#N...  2021-03-27     727.0   \n",
      "7692  I can’t believe we have to say this: farmers a...  2021-03-27     727.0   \n",
      "7538  This man made our country feel shameful in the...  2021-03-27     627.0   \n",
      "6729  #NoVoteTo_LiarModi , Farm Supporters are raidi...  2021-03-27     595.0   \n",
      "8012  While looking at These innocent faces, whose c...  2021-03-27     562.0   \n",
      "3825  #Breaking\\n\\n👉UP BJP MLA Nand Kishore forced t...  2021-03-28     553.0   \n",
      "\n",
      "                user  \n",
      "3082  saahilmenghani  \n",
      "5270     RaviSinghKA  \n",
      "7335  jasdhaliwal349  \n",
      "6087       amaanbali  \n",
      "7916        NavJammu  \n",
      "7692        NavJammu  \n",
      "7538     Taman_Rupal  \n",
      "6729       Drkhinda2  \n",
      "8012    Its_mannkaur  \n",
      "3825  saahilmenghani  \n"
     ]
    }
   ],
   "source": [
    "main(df)"
   ]
  },
  {
   "cell_type": "code",
   "execution_count": null,
   "metadata": {},
   "outputs": [],
   "source": []
  }
 ],
 "metadata": {
  "interpreter": {
   "hash": "1ab46514f8f0f47b509600f9e669b645dbccf6ed40e13a2f65cdd77e88c83e28"
  },
  "kernelspec": {
   "display_name": "Python 3.7.4 64-bit",
   "language": "python",
   "name": "python3"
  },
  "language_info": {
   "codemirror_mode": {
    "name": "ipython",
    "version": 3
   },
   "file_extension": ".py",
   "mimetype": "text/x-python",
   "name": "python",
   "nbconvert_exporter": "python",
   "pygments_lexer": "ipython3",
   "version": "3.7.4"
  },
  "orig_nbformat": 4
 },
 "nbformat": 4,
 "nbformat_minor": 2
}
